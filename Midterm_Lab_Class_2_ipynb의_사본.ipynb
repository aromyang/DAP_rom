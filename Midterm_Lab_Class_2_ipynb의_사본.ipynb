{
  "nbformat": 4,
  "nbformat_minor": 0,
  "metadata": {
    "colab": {
      "name": "Midterm_Lab_Class_2.ipynb의 사본",
      "provenance": [],
      "collapsed_sections": [],
      "toc_visible": true,
      "include_colab_link": true
    },
    "kernelspec": {
      "name": "python3",
      "display_name": "Python 3"
    },
    "language_info": {
      "name": "python"
    }
  },
  "cells": [
    {
      "cell_type": "markdown",
      "metadata": {
        "id": "view-in-github",
        "colab_type": "text"
      },
      "source": [
        "<a href=\"https://colab.research.google.com/github/romcanrom/DAP_rom/blob/main/Midterm_Lab_Class_2_ipynb%EC%9D%98_%EC%82%AC%EB%B3%B8.ipynb\" target=\"_parent\"><img src=\"https://colab.research.google.com/assets/colab-badge.svg\" alt=\"Open In Colab\"/></a>"
      ]
    },
    {
      "cell_type": "markdown",
      "metadata": {
        "id": "7RWmIBHy8ktG"
      },
      "source": [
        "# Midterm Examination - Lab Session\n",
        "### Data Analysis Programming - 4471017\n",
        "##### Kangwon National University\n",
        "##### 15. Oct. 2021.\n",
        "---\n",
        "| Problem | Score |\n",
        "|---------|-------|\n",
        "| 1       |(&emsp;&emsp;) / 50    |\n",
        "| 2       |(&emsp;&emsp;) / 50    |\n",
        "| Total   |(&emsp;&emsp;) / 100    |\n",
        "\n",
        "---\n",
        "* This examination contains **two problems**.\n",
        "\n",
        "* You have **45 minutes** to complete the examination.\n",
        "\n",
        "* You may use two (2) double-sided 8.5\"\\,$\\times$\\,11\" pages with notes that you have prepared. You are allow to use internet. *However, communicating or sharing a code with other students are prohibited.* If so, **F** grade will be given according to the rules of Kangwon National University.\n",
        "        \n",
        "* You should make a directory named with your ID and name **(e.g., 202011111\\_홍길동/)** and save all the files. If format is wrong, there will be degraded on overall score.\n",
        "\n",
        "* You should copy the directory to **TA's USB**. Please confirm that all the files are successfully copied.\n",
        "\n",
        "* No need to consider colors.\n",
        "---"
      ]
    },
    {
      "cell_type": "markdown",
      "metadata": {
        "id": "daIgkvYdDI1t"
      },
      "source": [
        "# Load Packages"
      ]
    },
    {
      "cell_type": "code",
      "metadata": {
        "id": "FQbMm3OyDGoB"
      },
      "source": [
        "import numpy as np\n",
        "import pandas as pd\n",
        "\n",
        "import matplotlib.pyplot as plt\n",
        "import seaborn as sns"
      ],
      "execution_count": null,
      "outputs": []
    },
    {
      "cell_type": "markdown",
      "metadata": {
        "id": "DT74wD-VGLMr"
      },
      "source": [
        "# Load Dataset"
      ]
    },
    {
      "cell_type": "code",
      "metadata": {
        "colab": {
          "base_uri": "https://localhost:8080/",
          "height": 235
        },
        "id": "dmN0nfmQGKGw",
        "outputId": "fdad5d32-6de6-4523-bf35-6ff257c9ae79"
      },
      "source": [
        "# data Cars93\n",
        "data = pd.read_csv('https://raw.githubusercontent.com/Kaushik-Varma/Marketing_Data_Analysis/master/Marketing_Analysis.csv',\n",
        "                   header=2).set_index('customerid').sample(n=500, random_state=0)\n",
        "\n",
        "# Extract job  & Education in newly from \"jobedu\" column.\n",
        "data['job']= data[\"jobedu\"].apply(lambda x: x.split(\",\")[0])\n",
        "data['education']= data[\"jobedu\"].apply(lambda x: x.split(\",\")[1])\n",
        "\n",
        "# Drop the \"jobedu\" column from the dataframe.\n",
        "data.drop('jobedu', axis = 1, inplace = True)\n",
        "\n",
        "# Column-wise filtration\n",
        "selectedAttritbute = ['age',\t'salary',\t'balance',\t'marital',\t'targeted',\t'job',\t'education']\n",
        "data = data[selectedAttritbute]\n",
        "\n",
        "data.head()"
      ],
      "execution_count": null,
      "outputs": [
        {
          "output_type": "execute_result",
          "data": {
            "text/html": [
              "<div>\n",
              "<style scoped>\n",
              "    .dataframe tbody tr th:only-of-type {\n",
              "        vertical-align: middle;\n",
              "    }\n",
              "\n",
              "    .dataframe tbody tr th {\n",
              "        vertical-align: top;\n",
              "    }\n",
              "\n",
              "    .dataframe thead th {\n",
              "        text-align: right;\n",
              "    }\n",
              "</style>\n",
              "<table border=\"1\" class=\"dataframe\">\n",
              "  <thead>\n",
              "    <tr style=\"text-align: right;\">\n",
              "      <th></th>\n",
              "      <th>age</th>\n",
              "      <th>salary</th>\n",
              "      <th>balance</th>\n",
              "      <th>marital</th>\n",
              "      <th>targeted</th>\n",
              "      <th>job</th>\n",
              "      <th>education</th>\n",
              "    </tr>\n",
              "    <tr>\n",
              "      <th>customerid</th>\n",
              "      <th></th>\n",
              "      <th></th>\n",
              "      <th></th>\n",
              "      <th></th>\n",
              "      <th></th>\n",
              "      <th></th>\n",
              "      <th></th>\n",
              "    </tr>\n",
              "  </thead>\n",
              "  <tbody>\n",
              "    <tr>\n",
              "      <th>14002</th>\n",
              "      <td>37.0</td>\n",
              "      <td>100000</td>\n",
              "      <td>1403</td>\n",
              "      <td>married</td>\n",
              "      <td>yes</td>\n",
              "      <td>management</td>\n",
              "      <td>tertiary</td>\n",
              "    </tr>\n",
              "    <tr>\n",
              "      <th>32047</th>\n",
              "      <td>36.0</td>\n",
              "      <td>70000</td>\n",
              "      <td>-253</td>\n",
              "      <td>single</td>\n",
              "      <td>yes</td>\n",
              "      <td>services</td>\n",
              "      <td>secondary</td>\n",
              "    </tr>\n",
              "    <tr>\n",
              "      <th>13319</th>\n",
              "      <td>47.0</td>\n",
              "      <td>20000</td>\n",
              "      <td>-406</td>\n",
              "      <td>married</td>\n",
              "      <td>yes</td>\n",
              "      <td>blue-collar</td>\n",
              "      <td>primary</td>\n",
              "    </tr>\n",
              "    <tr>\n",
              "      <th>42992</th>\n",
              "      <td>57.0</td>\n",
              "      <td>16000</td>\n",
              "      <td>501</td>\n",
              "      <td>married</td>\n",
              "      <td>yes</td>\n",
              "      <td>housemaid</td>\n",
              "      <td>primary</td>\n",
              "    </tr>\n",
              "    <tr>\n",
              "      <th>14238</th>\n",
              "      <td>33.0</td>\n",
              "      <td>20000</td>\n",
              "      <td>-406</td>\n",
              "      <td>married</td>\n",
              "      <td>yes</td>\n",
              "      <td>blue-collar</td>\n",
              "      <td>secondary</td>\n",
              "    </tr>\n",
              "  </tbody>\n",
              "</table>\n",
              "</div>"
            ],
            "text/plain": [
              "             age  salary  balance  marital targeted          job  education\n",
              "customerid                                                                 \n",
              "14002       37.0  100000     1403  married      yes   management   tertiary\n",
              "32047       36.0   70000     -253   single      yes     services  secondary\n",
              "13319       47.0   20000     -406  married      yes  blue-collar    primary\n",
              "42992       57.0   16000      501  married      yes    housemaid    primary\n",
              "14238       33.0   20000     -406  married      yes  blue-collar  secondary"
            ]
          },
          "metadata": {},
          "execution_count": 2
        }
      ]
    },
    {
      "cell_type": "markdown",
      "metadata": {
        "id": "6C4A5MKDAJ7i"
      },
      "source": [
        "# Problem 1. Statics and Data Visualization"
      ]
    },
    {
      "cell_type": "markdown",
      "metadata": {
        "id": "eAZ_ZEusEXWr"
      },
      "source": [
        "## 1-1. Plot the kernel density estimate (KDE) plot of `salary` in condition of `education`. [15 pts]\n",
        "- Use `kdeplot` of Seaborn"
      ]
    },
    {
      "cell_type": "code",
      "metadata": {
        "colab": {
          "base_uri": "https://localhost:8080/",
          "height": 308
        },
        "id": "C3dCTD1QDGWq",
        "outputId": "c4ff3160-cbb1-4f84-d09d-177d745d35f6"
      },
      "source": [
        "sns.kdeplot(data=data['salary'], x=data['salary'], hue=data['education'])"
      ],
      "execution_count": null,
      "outputs": [
        {
          "output_type": "execute_result",
          "data": {
            "text/plain": [
              "<matplotlib.axes._subplots.AxesSubplot at 0x7fb4dae9a210>"
            ]
          },
          "metadata": {},
          "execution_count": 46
        },
        {
          "output_type": "display_data",
          "data": {
            "image/png": "[encoded data removed]",
            "text/plain": [
              "<Figure size 432x288 with 1 Axes>"
            ]
          },
          "metadata": {
            "needs_background": "light"
          }
        }
      ]
    },
    {
      "cell_type": "markdown",
      "metadata": {
        "id": "JKaaEDCTJRRF"
      },
      "source": [
        "# 1-2. Plot the pair plot for numerical variables. [35 points]\n",
        "* [15 pts] 아래 완성된 그림을 참조하여 `marital` 상태에 따라 3개의 그룹을 나누어진 여섯 개의 `targeted`과 `salary`의 관계를 나타내고 있는 boxplot을 그리시오. (Referring to the completed figure below, draw a boxplot showing the relationship between six `targeted` and `salary`, divided into three groups according to `marital` status.) \n",
        "* [20 pts] `targeted`에 따른 `salary`의 차이가 존재하는 지 여부를 two-sample t-test를 통해 통계검정을 진행한 뒤 도출된 p-value를 각각의 axes에 출력시키시오. (After performing a statistical test through a two-sample t-test to see whether there is a difference in `salary` depending on the `targeted`, print the derived p-value on each axes.)"
      ]
    },
    {
      "cell_type": "code",
      "metadata": {
        "colab": {
          "base_uri": "https://localhost:8080/",
          "height": 243
        },
        "id": "RP5Yg8hOJgXP",
        "outputId": "f8533996-c41d-4213-890d-31c7287abb68"
      },
      "source": [
        "from scipy.stats import ttest_ind\n",
        "\n",
        "# Draw boxplots\n",
        "fig, ax = plt.subplots(figsize=(9,3))\n",
        "\n",
        "sns.boxplot(\n",
        "    x=data.targeted, y=data.salary, hue=data.marital\n",
        ")\n",
        "plt.show\n",
        "\n",
        "# Perform test and add text\n",
        "\n",
        "\n",
        "\n",
        "\n",
        "\n",
        "\n",
        "\n"
      ],
      "execution_count": null,
      "outputs": [
        {
          "output_type": "execute_result",
          "data": {
            "text/plain": [
              "<function matplotlib.pyplot.show>"
            ]
          },
          "metadata": {},
          "execution_count": 73
        },
        {
          "output_type": "display_data",
          "data": {
            "image/png": "[encoded data removed]",
            "text/plain": [
              "<Figure size 648x216 with 1 Axes>"
            ]
          },
          "metadata": {
            "needs_background": "light"
          }
        }
      ]
    },
    {
      "cell_type": "markdown",
      "metadata": {
        "id": "aXMvhLkxYpF-"
      },
      "source": [
        "# Problem 2. Data Preprocessing [50 Points]"
      ]
    },
    {
      "cell_type": "markdown",
      "metadata": {
        "id": "kY4V5SOLYvRN"
      },
      "source": [
        "## 2-1 Filtering and Encoding [20 Points]\n",
        "* [5 Points] Remove samples with `unknown` `education`. \n",
        "* [5 Points] Encode `marital`, `targeted`, `job` attributes using one-hot encoding.\n",
        "* [10 Points] Encode `education` attribute using ordinal encoding with order of (`primary`, `secondary`, `tertiary`)."
      ]
    },
    {
      "cell_type": "code",
      "metadata": {
        "id": "bmzry94eY6R5"
      },
      "source": [
        "# Remove samples with `unknown` `education`. \n",
        "\n",
        "# Encode using one-hot encoding.\n",
        "data_onehot = pd.get_dummies(data, columns = ['marital', 'targeted', 'job'])\n",
        "\n",
        "\n",
        "# Encode using ordinal encoding\n",
        "Edu_ord = {'primary' : 1,\n",
        "       'secondary' : 2,\n",
        "       'tertiary' : 3}\n",
        "data['Edu'] = data.education.map(Edu_ord)"
      ],
      "execution_count": null,
      "outputs": []
    },
    {
      "cell_type": "code",
      "metadata": {
        "colab": {
          "base_uri": "https://localhost:8080/",
          "height": 235
        },
        "id": "CCF1IVmMY4R6",
        "outputId": "d32649ec-cadb-48e9-e9f2-71f86a3eec8b"
      },
      "source": [
        "data.head()"
      ],
      "execution_count": null,
      "outputs": [
        {
          "output_type": "execute_result",
          "data": {
            "text/html": [
              "<div>\n",
              "<style scoped>\n",
              "    .dataframe tbody tr th:only-of-type {\n",
              "        vertical-align: middle;\n",
              "    }\n",
              "\n",
              "    .dataframe tbody tr th {\n",
              "        vertical-align: top;\n",
              "    }\n",
              "\n",
              "    .dataframe thead th {\n",
              "        text-align: right;\n",
              "    }\n",
              "</style>\n",
              "<table border=\"1\" class=\"dataframe\">\n",
              "  <thead>\n",
              "    <tr style=\"text-align: right;\">\n",
              "      <th></th>\n",
              "      <th>age</th>\n",
              "      <th>salary</th>\n",
              "      <th>balance</th>\n",
              "      <th>marital</th>\n",
              "      <th>targeted</th>\n",
              "      <th>job</th>\n",
              "      <th>education</th>\n",
              "      <th>Edu</th>\n",
              "    </tr>\n",
              "    <tr>\n",
              "      <th>customerid</th>\n",
              "      <th></th>\n",
              "      <th></th>\n",
              "      <th></th>\n",
              "      <th></th>\n",
              "      <th></th>\n",
              "      <th></th>\n",
              "      <th></th>\n",
              "      <th></th>\n",
              "    </tr>\n",
              "  </thead>\n",
              "  <tbody>\n",
              "    <tr>\n",
              "      <th>14002</th>\n",
              "      <td>37.0</td>\n",
              "      <td>100000</td>\n",
              "      <td>1403</td>\n",
              "      <td>married</td>\n",
              "      <td>yes</td>\n",
              "      <td>management</td>\n",
              "      <td>tertiary</td>\n",
              "      <td>3.0</td>\n",
              "    </tr>\n",
              "    <tr>\n",
              "      <th>32047</th>\n",
              "      <td>36.0</td>\n",
              "      <td>70000</td>\n",
              "      <td>-253</td>\n",
              "      <td>single</td>\n",
              "      <td>yes</td>\n",
              "      <td>services</td>\n",
              "      <td>secondary</td>\n",
              "      <td>2.0</td>\n",
              "    </tr>\n",
              "    <tr>\n",
              "      <th>13319</th>\n",
              "      <td>47.0</td>\n",
              "      <td>20000</td>\n",
              "      <td>-406</td>\n",
              "      <td>married</td>\n",
              "      <td>yes</td>\n",
              "      <td>blue-collar</td>\n",
              "      <td>primary</td>\n",
              "      <td>1.0</td>\n",
              "    </tr>\n",
              "    <tr>\n",
              "      <th>42992</th>\n",
              "      <td>57.0</td>\n",
              "      <td>16000</td>\n",
              "      <td>501</td>\n",
              "      <td>married</td>\n",
              "      <td>yes</td>\n",
              "      <td>housemaid</td>\n",
              "      <td>primary</td>\n",
              "      <td>1.0</td>\n",
              "    </tr>\n",
              "    <tr>\n",
              "      <th>14238</th>\n",
              "      <td>33.0</td>\n",
              "      <td>20000</td>\n",
              "      <td>-406</td>\n",
              "      <td>married</td>\n",
              "      <td>yes</td>\n",
              "      <td>blue-collar</td>\n",
              "      <td>secondary</td>\n",
              "      <td>2.0</td>\n",
              "    </tr>\n",
              "  </tbody>\n",
              "</table>\n",
              "</div>"
            ],
            "text/plain": [
              "             age  salary  balance  ...          job  education  Edu\n",
              "customerid                         ...                             \n",
              "14002       37.0  100000     1403  ...   management   tertiary  3.0\n",
              "32047       36.0   70000     -253  ...     services  secondary  2.0\n",
              "13319       47.0   20000     -406  ...  blue-collar    primary  1.0\n",
              "42992       57.0   16000      501  ...    housemaid    primary  1.0\n",
              "14238       33.0   20000     -406  ...  blue-collar  secondary  2.0\n",
              "\n",
              "[5 rows x 8 columns]"
            ]
          },
          "metadata": {},
          "execution_count": 68
        }
      ]
    },
    {
      "cell_type": "markdown",
      "metadata": {
        "id": "RDVmABMId3A0"
      },
      "source": [
        "# 2-2 Scaling [15 Points]\n",
        "* [10 pts] Apply z-score scaling."
      ]
    },
    {
      "cell_type": "code",
      "metadata": {
        "colab": {
          "base_uri": "https://localhost:8080/",
          "height": 208
        },
        "id": "AKxEOAkedCVo",
        "outputId": "c68be8f3-16b9-499d-ed4b-4767739fb913"
      },
      "source": [
        "from sklearn.preprocessing import StandardScaler\n",
        "\n",
        "# create a scaler object\n",
        "\n",
        "\n",
        "# fit and transform the data\n",
        "\n",
        "\n",
        "dataScale.head()"
      ],
      "execution_count": null,
      "outputs": [
        {
          "output_type": "error",
          "ename": "NameError",
          "evalue": "ignored",
          "traceback": [
            "\u001b[0;31m---------------------------------------------------------------------------\u001b[0m",
            "\u001b[0;31mNameError\u001b[0m                                 Traceback (most recent call last)",
            "\u001b[0;32m<ipython-input-7-b33fd8a37439>\u001b[0m in \u001b[0;36m<module>\u001b[0;34m()\u001b[0m\n\u001b[1;32m      7\u001b[0m \u001b[0;34m\u001b[0m\u001b[0m\n\u001b[1;32m      8\u001b[0m \u001b[0;34m\u001b[0m\u001b[0m\n\u001b[0;32m----> 9\u001b[0;31m \u001b[0mdataScale\u001b[0m\u001b[0;34m.\u001b[0m\u001b[0mhead\u001b[0m\u001b[0;34m(\u001b[0m\u001b[0;34m)\u001b[0m\u001b[0;34m\u001b[0m\u001b[0;34m\u001b[0m\u001b[0m\n\u001b[0m",
            "\u001b[0;31mNameError\u001b[0m: name 'dataScale' is not defined"
          ]
        }
      ]
    },
    {
      "cell_type": "markdown",
      "metadata": {
        "id": "8tDuZim2ehnQ"
      },
      "source": [
        "# 2-3 kNN imputation [15 Points]\n",
        "* [15 pts] Apply kNN imputation with ten numbers of nearest neighbor."
      ]
    },
    {
      "cell_type": "code",
      "metadata": {
        "id": "eKlGI1OYebWj"
      },
      "source": [
        "index = dataScale['age'].isna()\n",
        "dataScale.loc[index, :]"
      ],
      "execution_count": null,
      "outputs": []
    },
    {
      "cell_type": "code",
      "metadata": {
        "id": "ffdvbPO-fa5q"
      },
      "source": [
        "from sklearn.impute import KNNImputer\n",
        "\n",
        "# create a imputer object\n",
        "\n",
        "\n",
        "# fit and transform the data\n",
        "\n"
      ],
      "execution_count": null,
      "outputs": []
    },
    {
      "cell_type": "code",
      "metadata": {
        "id": "ScC4cOMtf4ZA"
      },
      "source": [
        "dataImp.loc[index, :]"
      ],
      "execution_count": null,
      "outputs": []
    }
  ]
}